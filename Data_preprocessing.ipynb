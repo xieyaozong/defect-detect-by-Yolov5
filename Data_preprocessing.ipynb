{
 "cells": [
  {
   "cell_type": "code",
   "execution_count": 1,
   "id": "0809e0c5",
   "metadata": {},
   "outputs": [],
   "source": [
    "import os\n",
    "import cv2 as cv\n",
    "import numpy as np\n",
    "import shutil\n",
    "from shutil import copy"
   ]
  },
  {
   "cell_type": "code",
   "execution_count": 2,
   "id": "01a9d557",
   "metadata": {},
   "outputs": [],
   "source": [
    "os.makedirs('yolov5-master/test')\n",
    "os.makedirs('yolov5-master/test/images')\n",
    "os.makedirs('yolov5-master/test/labels')"
   ]
  },
  {
   "cell_type": "code",
   "execution_count": 3,
   "id": "f1ddfc6c",
   "metadata": {},
   "outputs": [],
   "source": [
    "base_dir = r'Training_Dataset'\n",
    "images_dir = r'test/images'\n",
    "labels_dir = r'test/labels'"
   ]
  },
  {
   "cell_type": "code",
   "execution_count": 4,
   "id": "fbea48de",
   "metadata": {},
   "outputs": [],
   "source": [
    "annotation = os.path.join(base_dir,'annotation.txt')"
   ]
  },
  {
   "cell_type": "code",
   "execution_count": 5,
   "id": "bfb314f7",
   "metadata": {},
   "outputs": [],
   "source": [
    "ImageName = []\n",
    "Label = []\n",
    "\n",
    "with open(annotation,'r') as f:\n",
    "    data = f.readlines()\n",
    "    for line in data:\n",
    "        sp = line.split(',',1)\n",
    "        ImageName.append(sp[0])\n",
    "        Label.append(sp[1])"
   ]
  },
  {
   "cell_type": "code",
   "execution_count": 6,
   "id": "f09eed48",
   "metadata": {},
   "outputs": [],
   "source": [
    "del ImageName[0]\n",
    "del Label[0]"
   ]
  },
  {
   "cell_type": "markdown",
   "id": "1870a63d",
   "metadata": {},
   "source": [
    "# Image"
   ]
  },
  {
   "cell_type": "code",
   "execution_count": 7,
   "id": "9fe281fb",
   "metadata": {},
   "outputs": [],
   "source": [
    "a = os.listdir(base_dir)\n",
    "b ={}\n",
    "for i in range(6):\n",
    "    b[i] = os.listdir(base_dir+'/'+a[i])"
   ]
  },
  {
   "cell_type": "code",
   "execution_count": 8,
   "id": "6e9109cf",
   "metadata": {},
   "outputs": [],
   "source": [
    "for j in range(len(a)-1):\n",
    "    for k in range(len(b[j])):\n",
    "        orgin = base_dir+'/'+a[j]+'/'+b[j][k]\n",
    "        copy = images_dir+'/'+a[j]+'-'+b[j][k]\n",
    "        shutil.copy(orgin, copy)"
   ]
  },
  {
   "cell_type": "code",
   "execution_count": 9,
   "id": "f28c4724",
   "metadata": {},
   "outputs": [],
   "source": [
    "imagefile = {}\n",
    "H = {}\n",
    "W = {}\n",
    "\n",
    "for i in range(len(ImageName)):\n",
    "    imagefile[i] = cv.imread(ImageName[i])\n",
    "    (H[i],W[i]) = imagefile[i].shape[:2]"
   ]
  },
  {
   "cell_type": "markdown",
   "id": "982611ff",
   "metadata": {},
   "source": [
    "# Label"
   ]
  },
  {
   "cell_type": "code",
   "execution_count": 10,
   "id": "b2b80830",
   "metadata": {},
   "outputs": [
    {
     "data": {
      "text/plain": [
       "('0,2459,1274,2530,1329,0,1613,334,1679,396,0,1726,794,1797,854\\n', str)"
      ]
     },
     "execution_count": 10,
     "metadata": {},
     "output_type": "execute_result"
    }
   ],
   "source": [
    "Label[0],type(Label[0])"
   ]
  },
  {
   "cell_type": "code",
   "execution_count": 11,
   "id": "845e9132",
   "metadata": {},
   "outputs": [],
   "source": [
    "def labelnormalize(label,num):\n",
    "    label = label.rstrip()\n",
    "    label = label.split(',')\n",
    "    \n",
    "    for i in range(int(len(label)/5)):\n",
    "        i=i*5\n",
    "        Xmin = int(label[i+1])\n",
    "        Ymin = int(label[i+2])\n",
    "        Xmax = int(label[i+3])\n",
    "        Ymax = int(label[i+4])\n",
    "        \n",
    "        label[i+1]=(Xmin+Xmax)/(2*W[num])\n",
    "        label[i+2]=(Ymin+Ymax)/(2*H[num])\n",
    "        label[i+3]=(Xmax-Xmin)/W[num]\n",
    "        label[i+4]=(Ymax-Ymin)/H[num]\n",
    "        \n",
    "    return label"
   ]
  },
  {
   "cell_type": "code",
   "execution_count": 12,
   "id": "ac5a9778",
   "metadata": {},
   "outputs": [],
   "source": [
    "for i in range(len(Label)):\n",
    "    Label[i] = labelnormalize(Label[i],i)"
   ]
  },
  {
   "cell_type": "code",
   "execution_count": 13,
   "id": "50b82977",
   "metadata": {},
   "outputs": [],
   "source": [
    "def lablewrite(ac):\n",
    "    a={}\n",
    "    b=1\n",
    "    \n",
    "    ac = ' '.join([str(item) for item in ac])\n",
    "    \n",
    "    for i in range(len(ac)):\n",
    "        if ac[i] == str(' '):\n",
    "            a[b]=i\n",
    "            b=b+1\n",
    "\n",
    "    ac = list(ac)\n",
    "\n",
    "    for i in range(1,b):\n",
    "        if (i%5)==0:\n",
    "            q=a[i]\n",
    "            ac[q] = ('\\n')\n",
    "\n",
    "    ac = ''.join([str(item) for item in ac])\n",
    "    \n",
    "    return ac"
   ]
  },
  {
   "cell_type": "code",
   "execution_count": 14,
   "id": "c6132708",
   "metadata": {},
   "outputs": [],
   "source": [
    "l = 0\n",
    "\n",
    "for j in range(len(a)-1):\n",
    "    for k in range(len(b[j])):\n",
    "        filename = labels_dir+'/'+str(j)+'-'+str(k)\n",
    "        aa = lablewrite(Label[l])\n",
    "        f1 = open(filename+'.txt','w')\n",
    "        f1.write(aa)\n",
    "        l=l+1\n",
    "f1.close()"
   ]
  },
  {
   "cell_type": "code",
   "execution_count": null,
   "id": "4452e6c1",
   "metadata": {},
   "outputs": [],
   "source": []
  }
 ],
 "metadata": {
  "kernelspec": {
   "display_name": "Python 3 (ipykernel)",
   "language": "python",
   "name": "python3"
  },
  "language_info": {
   "codemirror_mode": {
    "name": "ipython",
    "version": 3
   },
   "file_extension": ".py",
   "mimetype": "text/x-python",
   "name": "python",
   "nbconvert_exporter": "python",
   "pygments_lexer": "ipython3",
   "version": "3.10.0"
  }
 },
 "nbformat": 4,
 "nbformat_minor": 5
}
